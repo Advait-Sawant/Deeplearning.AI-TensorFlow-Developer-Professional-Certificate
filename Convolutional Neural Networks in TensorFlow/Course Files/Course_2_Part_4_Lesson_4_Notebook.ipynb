{
  "nbformat": 4,
  "nbformat_minor": 0,
  "metadata": {
    "accelerator": "GPU",
    "colab": {
      "name": "Course 2 - Part 4 - Lesson 4 - Notebook.ipynb",
      "provenance": [],
      "collapsed_sections": [],
      "toc_visible": true
    },
    "kernelspec": {
      "display_name": "Python 3",
      "name": "python3"
    }
  },
  "cells": [
    {
      "cell_type": "markdown",
      "metadata": {
        "id": "rX8mhOLljYeM"
      },
      "source": [
        "##### Copyright 2019 The TensorFlow Authors."
      ]
    },
    {
      "cell_type": "code",
      "metadata": {
        "cellView": "form",
        "id": "BZSlp3DAjdYf"
      },
      "source": [
        "#@title Licensed under the Apache License, Version 2.0 (the \"License\");\n",
        "# you may not use this file except in compliance with the License.\n",
        "# You may obtain a copy of the License at\n",
        "#\n",
        "# https://www.apache.org/licenses/LICENSE-2.0\n",
        "#\n",
        "# Unless required by applicable law or agreed to in writing, software\n",
        "# distributed under the License is distributed on an \"AS IS\" BASIS,\n",
        "# WITHOUT WARRANTIES OR CONDITIONS OF ANY KIND, either express or implied.\n",
        "# See the License for the specific language governing permissions and\n",
        "# limitations under the License."
      ],
      "execution_count": null,
      "outputs": []
    },
    {
      "cell_type": "code",
      "metadata": {
        "colab": {
          "base_uri": "https://localhost:8080/"
        },
        "id": "RXZT2UsyIVe_",
        "outputId": "552ddc5b-caf1-40dc-8c3f-130f313ea120"
      },
      "source": [
        "!wget --no-check-certificate \\\n",
        "    https://storage.googleapis.com/laurencemoroney-blog.appspot.com/horse-or-human.zip \\\n",
        "    -O /tmp/horse-or-human.zip\n",
        "\n",
        "!wget --no-check-certificate \\\n",
        "    https://storage.googleapis.com/laurencemoroney-blog.appspot.com/validation-horse-or-human.zip \\\n",
        "    -O /tmp/validation-horse-or-human.zip\n",
        "  \n",
        "import os\n",
        "import zipfile\n",
        "\n",
        "local_zip = '/tmp/horse-or-human.zip'\n",
        "zip_ref = zipfile.ZipFile(local_zip, 'r')\n",
        "zip_ref.extractall('/tmp/horse-or-human')\n",
        "local_zip = '/tmp/validation-horse-or-human.zip'\n",
        "zip_ref = zipfile.ZipFile(local_zip, 'r')\n",
        "zip_ref.extractall('/tmp/validation-horse-or-human')\n",
        "zip_ref.close()\n",
        "# Directory with our training horse pictures\n",
        "train_horse_dir = os.path.join('/tmp/horse-or-human/horses')\n",
        "\n",
        "# Directory with our training human pictures\n",
        "train_human_dir = os.path.join('/tmp/horse-or-human/humans')\n",
        "\n",
        "# Directory with our training horse pictures\n",
        "validation_horse_dir = os.path.join('/tmp/validation-horse-or-human/horses')\n",
        "\n",
        "# Directory with our training human pictures\n",
        "validation_human_dir = os.path.join('/tmp/validation-horse-or-human/humans')"
      ],
      "execution_count": 1,
      "outputs": [
        {
          "output_type": "stream",
          "text": [
            "--2021-07-17 15:47:24--  https://storage.googleapis.com/laurencemoroney-blog.appspot.com/horse-or-human.zip\n",
            "Resolving storage.googleapis.com (storage.googleapis.com)... 74.125.20.128, 74.125.142.128, 74.125.135.128, ...\n",
            "Connecting to storage.googleapis.com (storage.googleapis.com)|74.125.20.128|:443... connected.\n",
            "HTTP request sent, awaiting response... 200 OK\n",
            "Length: 149574867 (143M) [application/zip]\n",
            "Saving to: ‘/tmp/horse-or-human.zip’\n",
            "\n",
            "/tmp/horse-or-human 100%[===================>] 142.65M   123MB/s    in 1.2s    \n",
            "\n",
            "2021-07-17 15:47:25 (123 MB/s) - ‘/tmp/horse-or-human.zip’ saved [149574867/149574867]\n",
            "\n",
            "--2021-07-17 15:47:26--  https://storage.googleapis.com/laurencemoroney-blog.appspot.com/validation-horse-or-human.zip\n",
            "Resolving storage.googleapis.com (storage.googleapis.com)... 74.125.135.128, 74.125.195.128, 74.125.20.128, ...\n",
            "Connecting to storage.googleapis.com (storage.googleapis.com)|74.125.135.128|:443... connected.\n",
            "HTTP request sent, awaiting response... 200 OK\n",
            "Length: 11480187 (11M) [application/zip]\n",
            "Saving to: ‘/tmp/validation-horse-or-human.zip’\n",
            "\n",
            "/tmp/validation-hor 100%[===================>]  10.95M  61.5MB/s    in 0.2s    \n",
            "\n",
            "2021-07-17 15:47:26 (61.5 MB/s) - ‘/tmp/validation-horse-or-human.zip’ saved [11480187/11480187]\n",
            "\n"
          ],
          "name": "stdout"
        }
      ]
    },
    {
      "cell_type": "markdown",
      "metadata": {
        "id": "5oqBkNBJmtUv"
      },
      "source": [
        "## Building a Small Model from Scratch\n",
        "\n",
        "But before we continue, let's start defining the model:\n",
        "\n",
        "Step 1 will be to import tensorflow."
      ]
    },
    {
      "cell_type": "code",
      "metadata": {
        "id": "qvfZg3LQbD-5"
      },
      "source": [
        "import tensorflow as tf"
      ],
      "execution_count": 2,
      "outputs": []
    },
    {
      "cell_type": "markdown",
      "metadata": {
        "id": "BnhYCP4tdqjC"
      },
      "source": [
        "We then add convolutional layers as in the previous example, and flatten the final result to feed into the densely connected layers."
      ]
    },
    {
      "cell_type": "markdown",
      "metadata": {
        "id": "gokG5HKpdtzm"
      },
      "source": [
        "Finally we add the densely connected layers. \n",
        "\n",
        "Note that because we are facing a two-class classification problem, i.e. a *binary classification problem*, we will end our network with a [*sigmoid* activation](https://wikipedia.org/wiki/Sigmoid_function), so that the output of our network will be a single scalar between 0 and 1, encoding the probability that the current image is class 1 (as opposed to class 0)."
      ]
    },
    {
      "cell_type": "code",
      "metadata": {
        "id": "PixZ2s5QbYQ3"
      },
      "source": [
        "model = tf.keras.models.Sequential([\n",
        "    # Note the input shape is the desired size of the image 300x300 with 3 bytes color\n",
        "    # This is the first convolution\n",
        "    tf.keras.layers.Conv2D(16, (3,3), activation='relu', input_shape=(300, 300, 3)),\n",
        "    tf.keras.layers.MaxPooling2D(2, 2),\n",
        "    # The second convolution\n",
        "    tf.keras.layers.Conv2D(32, (3,3), activation='relu'),\n",
        "    tf.keras.layers.MaxPooling2D(2,2),\n",
        "    # The third convolution\n",
        "    tf.keras.layers.Conv2D(64, (3,3), activation='relu'),\n",
        "    tf.keras.layers.MaxPooling2D(2,2),\n",
        "    # The fourth convolution\n",
        "    tf.keras.layers.Conv2D(64, (3,3), activation='relu'),\n",
        "    tf.keras.layers.MaxPooling2D(2,2),\n",
        "    # The fifth convolution\n",
        "    tf.keras.layers.Conv2D(64, (3,3), activation='relu'),\n",
        "    tf.keras.layers.MaxPooling2D(2,2),\n",
        "    # Flatten the results to feed into a DNN\n",
        "    tf.keras.layers.Flatten(),\n",
        "    # 512 neuron hidden layer\n",
        "    tf.keras.layers.Dense(512, activation='relu'),\n",
        "    # Only 1 output neuron. It will contain a value from 0-1 where 0 for 1 class ('horses') and 1 for the other ('humans')\n",
        "    tf.keras.layers.Dense(1, activation='sigmoid')\n",
        "])"
      ],
      "execution_count": 3,
      "outputs": []
    },
    {
      "cell_type": "code",
      "metadata": {
        "colab": {
          "base_uri": "https://localhost:8080/"
        },
        "id": "8DHWhFP_uhq3",
        "outputId": "84c1a9c1-6ff6-4bf5-9f6f-d40673f038f4"
      },
      "source": [
        "from tensorflow.keras.optimizers import RMSprop\n",
        "\n",
        "model.compile(loss='binary_crossentropy',\n",
        "              optimizer=RMSprop(lr=1e-4),\n",
        "              metrics=['accuracy'])"
      ],
      "execution_count": 4,
      "outputs": [
        {
          "output_type": "stream",
          "text": [
            "/usr/local/lib/python3.7/dist-packages/tensorflow/python/keras/optimizer_v2/optimizer_v2.py:375: UserWarning: The `lr` argument is deprecated, use `learning_rate` instead.\n",
            "  \"The `lr` argument is deprecated, use `learning_rate` instead.\")\n"
          ],
          "name": "stderr"
        }
      ]
    },
    {
      "cell_type": "code",
      "metadata": {
        "colab": {
          "base_uri": "https://localhost:8080/"
        },
        "id": "ClebU9NJg99G",
        "outputId": "0579657c-23e5-4da6-d80e-2d2a7ebf0913"
      },
      "source": [
        "from tensorflow.keras.preprocessing.image import ImageDataGenerator\n",
        "\n",
        "# All images will be rescaled by 1./255\n",
        "train_datagen = ImageDataGenerator(\n",
        "      rescale=1./255,\n",
        "      rotation_range=40,\n",
        "      width_shift_range=0.2,\n",
        "      height_shift_range=0.2,\n",
        "      shear_range=0.2,\n",
        "      zoom_range=0.2,\n",
        "      horizontal_flip=True,\n",
        "      fill_mode='nearest')\n",
        "\n",
        "validation_datagen = ImageDataGenerator(rescale=1/255)\n",
        "\n",
        "# Flow training images in batches of 128 using train_datagen generator\n",
        "train_generator = train_datagen.flow_from_directory(\n",
        "        '/tmp/horse-or-human/',  # This is the source directory for training images\n",
        "        target_size=(300, 300),  # All images will be resized to 150x150\n",
        "        batch_size=128,\n",
        "        # Since we use binary_crossentropy loss, we need binary labels\n",
        "        class_mode='binary')\n",
        "\n",
        "# Flow training images in batches of 128 using train_datagen generator\n",
        "validation_generator = validation_datagen.flow_from_directory(\n",
        "        '/tmp/validation-horse-or-human/',  # This is the source directory for training images\n",
        "        target_size=(300, 300),  # All images will be resized to 150x150\n",
        "        batch_size=32,\n",
        "        # Since we use binary_crossentropy loss, we need binary labels\n",
        "        class_mode='binary')"
      ],
      "execution_count": 5,
      "outputs": [
        {
          "output_type": "stream",
          "text": [
            "Found 1027 images belonging to 2 classes.\n",
            "Found 256 images belonging to 2 classes.\n"
          ],
          "name": "stdout"
        }
      ]
    },
    {
      "cell_type": "code",
      "metadata": {
        "colab": {
          "base_uri": "https://localhost:8080/"
        },
        "id": "Fb1_lgobv81m",
        "outputId": "489e2b1b-a6e9-40e7-c414-434479639651"
      },
      "source": [
        "history = model.fit(\n",
        "      train_generator,\n",
        "      steps_per_epoch=8,  \n",
        "      epochs=100,\n",
        "      verbose=1,\n",
        "      validation_data = validation_generator,\n",
        "      validation_steps=8)"
      ],
      "execution_count": 6,
      "outputs": [
        {
          "output_type": "stream",
          "text": [
            "Epoch 1/100\n",
            "8/8 [==============================] - 54s 3s/step - loss: 0.6830 - accuracy: 0.5962 - val_loss: 0.6949 - val_accuracy: 0.5000\n",
            "Epoch 2/100\n",
            "8/8 [==============================] - 22s 3s/step - loss: 0.6778 - accuracy: 0.5706 - val_loss: 0.6812 - val_accuracy: 0.5000\n",
            "Epoch 3/100\n",
            "8/8 [==============================] - 24s 3s/step - loss: 0.6263 - accuracy: 0.6602 - val_loss: 0.7273 - val_accuracy: 0.5000\n",
            "Epoch 4/100\n",
            "8/8 [==============================] - 22s 3s/step - loss: 0.6210 - accuracy: 0.6541 - val_loss: 0.6344 - val_accuracy: 0.5469\n",
            "Epoch 5/100\n",
            "8/8 [==============================] - 22s 3s/step - loss: 0.5903 - accuracy: 0.6685 - val_loss: 0.6660 - val_accuracy: 0.5078\n",
            "Epoch 6/100\n",
            "8/8 [==============================] - 21s 3s/step - loss: 0.5506 - accuracy: 0.7208 - val_loss: 0.6902 - val_accuracy: 0.5352\n",
            "Epoch 7/100\n",
            "8/8 [==============================] - 22s 3s/step - loss: 0.5980 - accuracy: 0.6930 - val_loss: 0.5910 - val_accuracy: 0.6055\n",
            "Epoch 8/100\n",
            "8/8 [==============================] - 23s 3s/step - loss: 0.5616 - accuracy: 0.7219 - val_loss: 0.6960 - val_accuracy: 0.5742\n",
            "Epoch 9/100\n",
            "8/8 [==============================] - 22s 3s/step - loss: 0.5374 - accuracy: 0.7186 - val_loss: 0.7360 - val_accuracy: 0.5664\n",
            "Epoch 10/100\n",
            "8/8 [==============================] - 22s 3s/step - loss: 0.5287 - accuracy: 0.7386 - val_loss: 0.7698 - val_accuracy: 0.5820\n",
            "Epoch 11/100\n",
            "8/8 [==============================] - 22s 3s/step - loss: 0.5510 - accuracy: 0.7241 - val_loss: 0.6816 - val_accuracy: 0.6211\n",
            "Epoch 12/100\n",
            "8/8 [==============================] - 22s 3s/step - loss: 0.5040 - accuracy: 0.7653 - val_loss: 0.7259 - val_accuracy: 0.6172\n",
            "Epoch 13/100\n",
            "8/8 [==============================] - 22s 3s/step - loss: 0.5046 - accuracy: 0.7519 - val_loss: 0.7498 - val_accuracy: 0.6055\n",
            "Epoch 14/100\n",
            "8/8 [==============================] - 22s 3s/step - loss: 0.5015 - accuracy: 0.7486 - val_loss: 0.8064 - val_accuracy: 0.6055\n",
            "Epoch 15/100\n",
            "8/8 [==============================] - 22s 3s/step - loss: 0.4798 - accuracy: 0.7786 - val_loss: 0.7307 - val_accuracy: 0.6523\n",
            "Epoch 16/100\n",
            "8/8 [==============================] - 22s 3s/step - loss: 0.4553 - accuracy: 0.7875 - val_loss: 0.9648 - val_accuracy: 0.6133\n",
            "Epoch 17/100\n",
            "8/8 [==============================] - 21s 3s/step - loss: 0.6496 - accuracy: 0.7297 - val_loss: 0.9265 - val_accuracy: 0.6094\n",
            "Epoch 18/100\n",
            "8/8 [==============================] - 23s 3s/step - loss: 0.4904 - accuracy: 0.7720 - val_loss: 1.0782 - val_accuracy: 0.5859\n",
            "Epoch 19/100\n",
            "8/8 [==============================] - 21s 3s/step - loss: 0.4472 - accuracy: 0.8042 - val_loss: 0.9537 - val_accuracy: 0.6172\n",
            "Epoch 20/100\n",
            "8/8 [==============================] - 23s 3s/step - loss: 0.4270 - accuracy: 0.8187 - val_loss: 0.9688 - val_accuracy: 0.6328\n",
            "Epoch 21/100\n",
            "8/8 [==============================] - 22s 3s/step - loss: 0.4159 - accuracy: 0.8087 - val_loss: 0.9911 - val_accuracy: 0.6406\n",
            "Epoch 22/100\n",
            "8/8 [==============================] - 21s 3s/step - loss: 0.4430 - accuracy: 0.7820 - val_loss: 1.1038 - val_accuracy: 0.6289\n",
            "Epoch 23/100\n",
            "8/8 [==============================] - 22s 3s/step - loss: 0.4583 - accuracy: 0.7809 - val_loss: 1.0899 - val_accuracy: 0.6172\n",
            "Epoch 24/100\n",
            "8/8 [==============================] - 22s 3s/step - loss: 0.4857 - accuracy: 0.7753 - val_loss: 1.1877 - val_accuracy: 0.6094\n",
            "Epoch 25/100\n",
            "8/8 [==============================] - 22s 3s/step - loss: 0.4057 - accuracy: 0.8176 - val_loss: 1.0613 - val_accuracy: 0.6367\n",
            "Epoch 26/100\n",
            "8/8 [==============================] - 21s 3s/step - loss: 0.4167 - accuracy: 0.8109 - val_loss: 1.1350 - val_accuracy: 0.6328\n",
            "Epoch 27/100\n",
            "8/8 [==============================] - 22s 3s/step - loss: 0.3542 - accuracy: 0.8465 - val_loss: 2.5778 - val_accuracy: 0.5000\n",
            "Epoch 28/100\n",
            "8/8 [==============================] - 22s 3s/step - loss: 0.4501 - accuracy: 0.7831 - val_loss: 1.2688 - val_accuracy: 0.5977\n",
            "Epoch 29/100\n",
            "8/8 [==============================] - 22s 3s/step - loss: 0.3646 - accuracy: 0.8420 - val_loss: 1.3054 - val_accuracy: 0.6328\n",
            "Epoch 30/100\n",
            "8/8 [==============================] - 22s 3s/step - loss: 0.4155 - accuracy: 0.8020 - val_loss: 1.0411 - val_accuracy: 0.6562\n",
            "Epoch 31/100\n",
            "8/8 [==============================] - 22s 3s/step - loss: 0.3417 - accuracy: 0.8565 - val_loss: 1.1967 - val_accuracy: 0.6445\n",
            "Epoch 32/100\n",
            "8/8 [==============================] - 22s 3s/step - loss: 0.3435 - accuracy: 0.8610 - val_loss: 1.2905 - val_accuracy: 0.6367\n",
            "Epoch 33/100\n",
            "8/8 [==============================] - 24s 3s/step - loss: 0.3426 - accuracy: 0.8447 - val_loss: 1.4565 - val_accuracy: 0.6172\n",
            "Epoch 34/100\n",
            "8/8 [==============================] - 22s 3s/step - loss: 0.3272 - accuracy: 0.8721 - val_loss: 0.9556 - val_accuracy: 0.7109\n",
            "Epoch 35/100\n",
            "8/8 [==============================] - 21s 3s/step - loss: 0.3745 - accuracy: 0.8298 - val_loss: 0.9828 - val_accuracy: 0.7031\n",
            "Epoch 36/100\n",
            "8/8 [==============================] - 22s 3s/step - loss: 0.3577 - accuracy: 0.8398 - val_loss: 2.5885 - val_accuracy: 0.5273\n",
            "Epoch 37/100\n",
            "8/8 [==============================] - 21s 3s/step - loss: 0.3043 - accuracy: 0.8710 - val_loss: 1.4209 - val_accuracy: 0.6523\n",
            "Epoch 38/100\n",
            "8/8 [==============================] - 23s 3s/step - loss: 0.3542 - accuracy: 0.8498 - val_loss: 1.4219 - val_accuracy: 0.6562\n",
            "Epoch 39/100\n",
            "8/8 [==============================] - 24s 3s/step - loss: 0.2958 - accuracy: 0.8760 - val_loss: 1.2671 - val_accuracy: 0.6875\n",
            "Epoch 40/100\n",
            "8/8 [==============================] - 22s 3s/step - loss: 0.3513 - accuracy: 0.8420 - val_loss: 1.8154 - val_accuracy: 0.5898\n",
            "Epoch 41/100\n",
            "8/8 [==============================] - 25s 3s/step - loss: 0.2773 - accuracy: 0.8857 - val_loss: 1.1858 - val_accuracy: 0.7031\n",
            "Epoch 42/100\n",
            "8/8 [==============================] - 23s 3s/step - loss: 0.3045 - accuracy: 0.8687 - val_loss: 1.7873 - val_accuracy: 0.6094\n",
            "Epoch 43/100\n",
            "8/8 [==============================] - 24s 3s/step - loss: 0.2699 - accuracy: 0.8887 - val_loss: 1.1033 - val_accuracy: 0.7070\n",
            "Epoch 44/100\n",
            "8/8 [==============================] - 23s 3s/step - loss: 0.3161 - accuracy: 0.8665 - val_loss: 1.3986 - val_accuracy: 0.6680\n",
            "Epoch 45/100\n",
            "8/8 [==============================] - 21s 3s/step - loss: 0.3394 - accuracy: 0.8532 - val_loss: 1.9710 - val_accuracy: 0.5898\n",
            "Epoch 46/100\n",
            "8/8 [==============================] - 22s 3s/step - loss: 0.3141 - accuracy: 0.8476 - val_loss: 1.5502 - val_accuracy: 0.6250\n",
            "Epoch 47/100\n",
            "8/8 [==============================] - 25s 3s/step - loss: 0.2561 - accuracy: 0.8984 - val_loss: 1.0098 - val_accuracy: 0.7188\n",
            "Epoch 48/100\n",
            "8/8 [==============================] - 22s 3s/step - loss: 0.2893 - accuracy: 0.8754 - val_loss: 1.4266 - val_accuracy: 0.6680\n",
            "Epoch 49/100\n",
            "8/8 [==============================] - 22s 3s/step - loss: 0.2685 - accuracy: 0.8877 - val_loss: 1.6078 - val_accuracy: 0.6562\n",
            "Epoch 50/100\n",
            "8/8 [==============================] - 23s 3s/step - loss: 0.2362 - accuracy: 0.9099 - val_loss: 2.0498 - val_accuracy: 0.6133\n",
            "Epoch 51/100\n",
            "8/8 [==============================] - 21s 3s/step - loss: 0.3254 - accuracy: 0.8665 - val_loss: 1.7250 - val_accuracy: 0.6289\n",
            "Epoch 52/100\n",
            "8/8 [==============================] - 22s 3s/step - loss: 0.2402 - accuracy: 0.9066 - val_loss: 2.0824 - val_accuracy: 0.6133\n",
            "Epoch 53/100\n",
            "8/8 [==============================] - 21s 3s/step - loss: 0.2396 - accuracy: 0.9021 - val_loss: 1.6703 - val_accuracy: 0.6562\n",
            "Epoch 54/100\n",
            "8/8 [==============================] - 22s 3s/step - loss: 0.2252 - accuracy: 0.9132 - val_loss: 0.9983 - val_accuracy: 0.7500\n",
            "Epoch 55/100\n",
            "8/8 [==============================] - 21s 3s/step - loss: 0.2578 - accuracy: 0.8854 - val_loss: 1.6061 - val_accuracy: 0.6719\n",
            "Epoch 56/100\n",
            "8/8 [==============================] - 22s 3s/step - loss: 0.2119 - accuracy: 0.9143 - val_loss: 1.2340 - val_accuracy: 0.7188\n",
            "Epoch 57/100\n",
            "8/8 [==============================] - 22s 3s/step - loss: 0.2544 - accuracy: 0.8977 - val_loss: 2.0294 - val_accuracy: 0.6172\n",
            "Epoch 58/100\n",
            "8/8 [==============================] - 22s 3s/step - loss: 0.2098 - accuracy: 0.9255 - val_loss: 2.2013 - val_accuracy: 0.6055\n",
            "Epoch 59/100\n",
            "8/8 [==============================] - 22s 3s/step - loss: 0.1891 - accuracy: 0.9277 - val_loss: 2.1996 - val_accuracy: 0.6133\n",
            "Epoch 60/100\n",
            "8/8 [==============================] - 25s 3s/step - loss: 0.2097 - accuracy: 0.9199 - val_loss: 0.9855 - val_accuracy: 0.7383\n",
            "Epoch 61/100\n",
            "8/8 [==============================] - 22s 3s/step - loss: 0.3387 - accuracy: 0.8687 - val_loss: 1.5777 - val_accuracy: 0.6680\n",
            "Epoch 62/100\n",
            "8/8 [==============================] - 21s 3s/step - loss: 0.1774 - accuracy: 0.9399 - val_loss: 1.7884 - val_accuracy: 0.6641\n",
            "Epoch 63/100\n",
            "8/8 [==============================] - 25s 3s/step - loss: 0.1953 - accuracy: 0.9229 - val_loss: 2.1225 - val_accuracy: 0.6445\n",
            "Epoch 64/100\n",
            "8/8 [==============================] - 21s 3s/step - loss: 0.1590 - accuracy: 0.9455 - val_loss: 1.7358 - val_accuracy: 0.6719\n",
            "Epoch 65/100\n",
            "8/8 [==============================] - 22s 3s/step - loss: 0.2560 - accuracy: 0.8899 - val_loss: 1.7343 - val_accuracy: 0.6484\n",
            "Epoch 66/100\n",
            "8/8 [==============================] - 22s 3s/step - loss: 0.2104 - accuracy: 0.9266 - val_loss: 1.5047 - val_accuracy: 0.6641\n",
            "Epoch 67/100\n",
            "8/8 [==============================] - 22s 3s/step - loss: 0.1865 - accuracy: 0.9377 - val_loss: 1.3486 - val_accuracy: 0.6953\n",
            "Epoch 68/100\n",
            "8/8 [==============================] - 25s 3s/step - loss: 0.2124 - accuracy: 0.9268 - val_loss: 1.4280 - val_accuracy: 0.6875\n",
            "Epoch 69/100\n",
            "8/8 [==============================] - 21s 3s/step - loss: 0.1753 - accuracy: 0.9310 - val_loss: 2.5352 - val_accuracy: 0.6094\n",
            "Epoch 70/100\n",
            "8/8 [==============================] - 22s 3s/step - loss: 0.1744 - accuracy: 0.9299 - val_loss: 1.7563 - val_accuracy: 0.6797\n",
            "Epoch 71/100\n",
            "8/8 [==============================] - 22s 3s/step - loss: 0.2608 - accuracy: 0.8954 - val_loss: 1.7178 - val_accuracy: 0.6875\n",
            "Epoch 72/100\n",
            "8/8 [==============================] - 21s 3s/step - loss: 0.1721 - accuracy: 0.9355 - val_loss: 1.6991 - val_accuracy: 0.7148\n",
            "Epoch 73/100\n",
            "8/8 [==============================] - 22s 3s/step - loss: 0.2142 - accuracy: 0.9244 - val_loss: 1.6951 - val_accuracy: 0.6797\n",
            "Epoch 74/100\n",
            "8/8 [==============================] - 21s 3s/step - loss: 0.1623 - accuracy: 0.9366 - val_loss: 2.1652 - val_accuracy: 0.6602\n",
            "Epoch 75/100\n",
            "8/8 [==============================] - 22s 3s/step - loss: 0.2067 - accuracy: 0.9188 - val_loss: 3.2767 - val_accuracy: 0.5586\n",
            "Epoch 76/100\n",
            "8/8 [==============================] - 22s 3s/step - loss: 0.1794 - accuracy: 0.9221 - val_loss: 1.5924 - val_accuracy: 0.7070\n",
            "Epoch 77/100\n",
            "8/8 [==============================] - 22s 3s/step - loss: 0.1575 - accuracy: 0.9444 - val_loss: 2.5952 - val_accuracy: 0.6328\n",
            "Epoch 78/100\n",
            "8/8 [==============================] - 21s 3s/step - loss: 0.2030 - accuracy: 0.9066 - val_loss: 1.9743 - val_accuracy: 0.6641\n",
            "Epoch 79/100\n",
            "8/8 [==============================] - 25s 3s/step - loss: 0.1376 - accuracy: 0.9541 - val_loss: 2.4718 - val_accuracy: 0.6445\n",
            "Epoch 80/100\n",
            "8/8 [==============================] - 22s 3s/step - loss: 0.2398 - accuracy: 0.9021 - val_loss: 1.8374 - val_accuracy: 0.6680\n",
            "Epoch 81/100\n",
            "8/8 [==============================] - 24s 3s/step - loss: 0.1314 - accuracy: 0.9531 - val_loss: 1.6890 - val_accuracy: 0.6953\n",
            "Epoch 82/100\n",
            "8/8 [==============================] - 22s 3s/step - loss: 0.1438 - accuracy: 0.9477 - val_loss: 2.1974 - val_accuracy: 0.6641\n",
            "Epoch 83/100\n",
            "8/8 [==============================] - 22s 3s/step - loss: 0.1968 - accuracy: 0.9266 - val_loss: 1.9230 - val_accuracy: 0.6875\n",
            "Epoch 84/100\n",
            "8/8 [==============================] - 22s 3s/step - loss: 0.2022 - accuracy: 0.9210 - val_loss: 1.9454 - val_accuracy: 0.6797\n",
            "Epoch 85/100\n",
            "8/8 [==============================] - 21s 3s/step - loss: 0.1499 - accuracy: 0.9355 - val_loss: 1.7654 - val_accuracy: 0.6875\n",
            "Epoch 86/100\n",
            "8/8 [==============================] - 23s 3s/step - loss: 0.1482 - accuracy: 0.9455 - val_loss: 1.9762 - val_accuracy: 0.6680\n",
            "Epoch 87/100\n",
            "8/8 [==============================] - 21s 3s/step - loss: 0.1520 - accuracy: 0.9422 - val_loss: 2.3411 - val_accuracy: 0.6484\n",
            "Epoch 88/100\n",
            "8/8 [==============================] - 23s 3s/step - loss: 0.4381 - accuracy: 0.8810 - val_loss: 1.5278 - val_accuracy: 0.7148\n",
            "Epoch 89/100\n",
            "8/8 [==============================] - 22s 3s/step - loss: 0.1271 - accuracy: 0.9577 - val_loss: 1.9370 - val_accuracy: 0.6641\n",
            "Epoch 90/100\n",
            "8/8 [==============================] - 22s 3s/step - loss: 0.1230 - accuracy: 0.9611 - val_loss: 1.1871 - val_accuracy: 0.7500\n",
            "Epoch 91/100\n",
            "8/8 [==============================] - 23s 3s/step - loss: 0.1436 - accuracy: 0.9433 - val_loss: 1.4212 - val_accuracy: 0.7383\n",
            "Epoch 92/100\n",
            "8/8 [==============================] - 22s 3s/step - loss: 0.1345 - accuracy: 0.9488 - val_loss: 3.3408 - val_accuracy: 0.6094\n",
            "Epoch 93/100\n",
            "8/8 [==============================] - 25s 3s/step - loss: 0.1459 - accuracy: 0.9463 - val_loss: 2.4968 - val_accuracy: 0.6602\n",
            "Epoch 94/100\n",
            "8/8 [==============================] - 21s 3s/step - loss: 0.2610 - accuracy: 0.9143 - val_loss: 2.3172 - val_accuracy: 0.6602\n",
            "Epoch 95/100\n",
            "8/8 [==============================] - 22s 3s/step - loss: 0.1086 - accuracy: 0.9644 - val_loss: 1.9351 - val_accuracy: 0.6836\n",
            "Epoch 96/100\n",
            "8/8 [==============================] - 22s 3s/step - loss: 0.1343 - accuracy: 0.9477 - val_loss: 2.4090 - val_accuracy: 0.6523\n",
            "Epoch 97/100\n",
            "8/8 [==============================] - 22s 3s/step - loss: 0.1562 - accuracy: 0.9344 - val_loss: 1.8298 - val_accuracy: 0.6992\n",
            "Epoch 98/100\n",
            "8/8 [==============================] - 22s 3s/step - loss: 0.1153 - accuracy: 0.9622 - val_loss: 2.3953 - val_accuracy: 0.6562\n",
            "Epoch 99/100\n",
            "8/8 [==============================] - 22s 3s/step - loss: 0.2383 - accuracy: 0.9043 - val_loss: 1.9641 - val_accuracy: 0.6758\n",
            "Epoch 100/100\n",
            "8/8 [==============================] - 23s 3s/step - loss: 0.2071 - accuracy: 0.9266 - val_loss: 2.0546 - val_accuracy: 0.6602\n"
          ],
          "name": "stdout"
        }
      ]
    },
    {
      "cell_type": "code",
      "metadata": {
        "colab": {
          "base_uri": "https://localhost:8080/",
          "height": 545
        },
        "id": "7zNPRWOVJdOH",
        "outputId": "4017e681-d265-4189-b5ad-738759269fa7"
      },
      "source": [
        "import matplotlib.pyplot as plt\n",
        "acc = history.history['accuracy']\n",
        "val_acc = history.history['val_accuracy']\n",
        "loss = history.history['loss']\n",
        "val_loss = history.history['val_loss']\n",
        "\n",
        "epochs = range(len(acc))\n",
        "\n",
        "plt.plot(epochs, acc, 'r', label='Training accuracy')\n",
        "plt.plot(epochs, val_acc, 'b', label='Validation accuracy')\n",
        "plt.title('Training and validation accuracy')\n",
        "\n",
        "plt.figure()\n",
        "\n",
        "plt.plot(epochs, loss, 'r', label='Training Loss')\n",
        "plt.plot(epochs, val_loss, 'b', label='Validation Loss')\n",
        "plt.title('Training and validation loss')\n",
        "plt.legend()\n",
        "\n",
        "plt.show()"
      ],
      "execution_count": 7,
      "outputs": [
        {
          "output_type": "display_data",
          "data": {
            "image/png": "[encoded data removed]",
            "text/plain": [
              "<Figure size 432x288 with 1 Axes>"
            ]
          },
          "metadata": {
            "tags": [],
            "needs_background": "light"
          }
        },
        {
          "output_type": "display_data",
          "data": {
            "image/png": "[encoded data removed]",
            "text/plain": [
              "<Figure size 432x288 with 1 Axes>"
            ]
          },
          "metadata": {
            "tags": [],
            "needs_background": "light"
          }
        }
      ]
    },
    {
      "cell_type": "code",
      "metadata": {
        "id": "vKt6kupqJpxe"
      },
      "source": [
        ""
      ],
      "execution_count": null,
      "outputs": []
    }
  ]
}